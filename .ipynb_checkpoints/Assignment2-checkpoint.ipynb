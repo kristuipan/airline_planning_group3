{
 "cells": [
  {
   "cell_type": "code",
   "execution_count": 28,
   "id": "09afc37d",
   "metadata": {},
   "outputs": [],
   "source": [
    "import pandas as pd\n",
    "import numpy as np"
   ]
  },
  {
   "cell_type": "code",
   "execution_count": 29,
   "id": "118da9d5",
   "metadata": {},
   "outputs": [],
   "source": [
    "#import airport data\n",
    "df_airports = pd.read_excel('AE4423Ass2/AirportData.xlsx', header=None).T\n",
    "df_airports.columns = df_airports.iloc[0]\n",
    "df_airports = df_airports[1:]\n",
    "\n",
    "#convert to arrays\n",
    "city = df_airports['City'].to_numpy()\n",
    "iata = df_airports['IATA code'].to_numpy()\n",
    "latitude = df_airports['Latitude (deg)'].to_numpy()\n",
    "longitude = df_airports['Longitude (deg)'].to_numpy()\n",
    "runway = df_airports['Runway (m)'].to_numpy()"
   ]
  },
  {
   "cell_type": "code",
   "execution_count": 30,
   "id": "49f78cec",
   "metadata": {},
   "outputs": [],
   "source": [
    "#import aircraft data\n",
    "df_aircraft = pd.read_excel('AE4423Ass2/FleetType.xlsx', header=None)\n",
    "df_aircraft.columns = df_aircraft.iloc[0]\n",
    "df_aircraft = df_aircraft[1:]\n",
    "\n",
    "#convert to arrays\n",
    "speed = df_aircraft.iloc[0,1:].to_numpy()\n",
    "capacity = df_aircraft.iloc[1,1:].to_numpy()\n",
    "tat = df_aircraft.iloc[2,1:].to_numpy()\n",
    "max_range = df_aircraft.iloc[3,1:].to_numpy()\n",
    "req_runway = df_aircraft.iloc[4,1:].to_numpy()\n",
    "lease_cost = df_aircraft.iloc[5,1:].to_numpy()\n",
    "fixed_operating_cost = df_aircraft.iloc[6,1:].to_numpy()\n",
    "hourly_cost = df_aircraft.iloc[7,1:].to_numpy()\n",
    "fuel_cost_parameter = df_aircraft.iloc[8,1:].to_numpy()\n",
    "fleet = df_aircraft.iloc[9,1:].to_numpy()"
   ]
  },
  {
   "cell_type": "code",
   "execution_count": 256,
   "id": "2b5f4c0b",
   "metadata": {},
   "outputs": [],
   "source": [
    "#import demand data\n",
    "df_demand = pd.read_excel('AE4423Ass2/Group3.xlsx', header=None)\n",
    "\n",
    "#look up demand for airport pair and time window\n",
    "def demand(ap1, ap2, tw):\n",
    "    return float(df_demand[(df_demand[1] == ap1) & (df_demand[2] == ap2)][tw+3])\n",
    "\n",
    "\n",
    "#initialize sets\n",
    "I = range(20) #airports\n",
    "T = range(1200) #time steps\n",
    "K = range(3) #aircraft type\n",
    "\n",
    "#initialize demand array from and to hub in timesteps\n",
    "state_demand = np.zeros((2,20,1200))\n",
    "#from hub\n",
    "for i in I:\n",
    "    for t in T:\n",
    "        state_demand[0][i][t] = demand(iata[4], iata[i], int(t/40))\n",
    "        \n",
    "#to hub\n",
    "for i in I:\n",
    "    for t in T:\n",
    "        state_demand[1][i][t] = demand(iata[i], iata[4], int(t/40))\n"
   ]
  },
  {
   "cell_type": "code",
   "execution_count": 32,
   "id": "8b5e1a30",
   "metadata": {},
   "outputs": [],
   "source": [
    "#calculate distance between airport pairs\n",
    "iata_list = list(iata)\n",
    "def distance(ap1, ap2):\n",
    "    R_E = 6371 #km\n",
    "    phi1 = np.radians(latitude[iata_list.index(ap1)])\n",
    "    phi2 = np.radians(latitude[iata_list.index(ap2)])\n",
    "    lamda1 = np.radians(longitude[iata_list.index(ap1)])\n",
    "    lamda2 = np.radians(longitude[iata_list.index(ap2)])\n",
    "    sigma = 2* np.arcsin(np.sqrt(np.sin((phi1 - phi2)/2)**2 + np.cos(phi1)*np.cos(phi2)*np.sin((lamda1 - lamda2)/2)**2))\n",
    "    d_ij = R_E * sigma\n",
    "    return float(d_ij)    "
   ]
  },
  {
   "cell_type": "code",
   "execution_count": 168,
   "id": "c7981bd1",
   "metadata": {},
   "outputs": [],
   "source": [
    "#calculate revenue for flight leg (i,j) with aircraft type k at time t\n",
    "def revenue(ap1, ap2, k, t):\n",
    "    #if from hub\n",
    "    if ap1 == iata[4]:\n",
    "        yield_value = 0.26\n",
    "        time_window = int(t/40)\n",
    "        #check if demand fits in the aircraft and check for the spilled demand from previous timeslots\n",
    "        if state_demand[0][iata_list.index(ap2)][t] <= capacity[k]:\n",
    "            flow = state_demand[0][iata_list.index(ap2)][t]\n",
    "        else:\n",
    "            flow = capacity[k]\n",
    "            \n",
    "    #if to hub        \n",
    "    if ap2 == iata[4]:\n",
    "        yield_value = 0.26\n",
    "        time_window = int(t/40)\n",
    "        #check if demand fits in the aircraft\n",
    "        if state_demand[1][iata_list.index(ap1)][t] <= capacity[k]:\n",
    "            flow = state_demand[1][iata_list.index(ap1)][t]\n",
    "        else:\n",
    "            flow = capacity[k]\n",
    "    #convert flow to tonnes\n",
    "    flow = flow/1000\n",
    "    revenue = yield_value * distance(ap1, ap2) * flow    \n",
    "    return revenue\n",
    "\n"
   ]
  },
  {
   "cell_type": "code",
   "execution_count": 175,
   "id": "e6c88e8c",
   "metadata": {},
   "outputs": [
    {
     "data": {
      "text/plain": [
       "5738.218090525484"
      ]
     },
     "execution_count": 175,
     "metadata": {},
     "output_type": "execute_result"
    }
   ],
   "source": [
    "revenue(iata[4],iata[14],0,200)"
   ]
  },
  {
   "cell_type": "code",
   "execution_count": 57,
   "id": "a8e0c5e3",
   "metadata": {},
   "outputs": [],
   "source": [
    "#calculate cost for flight leg (i,j) with aircraft type k\n",
    "def cost(ap1, ap2, k):\n",
    "    if ap1 == ap2:\n",
    "        total_cost = 0\n",
    "    else:\n",
    "        time_based_cost = hourly_cost[k] * (distance(ap1, ap2)/speed[k] + 0.5) #include take-off and landing time\n",
    "        f = 1.42\n",
    "        fuel_cost = fuel_cost_parameter[k] * f * distance(ap1, ap2) / 1.5\n",
    "        total_cost = time_based_cost + fuel_cost + fixed_operating_cost[k]\n",
    "    return total_cost"
   ]
  },
  {
   "cell_type": "code",
   "execution_count": 156,
   "id": "09a46897",
   "metadata": {},
   "outputs": [],
   "source": [
    "def profit(ap1, ap2, k, t):\n",
    "    #range constraint\n",
    "    if max_range[k] < distance(ap1, ap2):\n",
    "        profit = -100000000\n",
    "    #runway constraint\n",
    "    elif req_runway[k] > runway[iata_list.index(ap1)] or req_runway[k] > runway[iata_list.index(ap2)]:\n",
    "        profit = -100000000\n",
    "    else:\n",
    "        profit = revenue(ap1, ap2, k, t) - cost(ap1, ap2, k)\n",
    "    return profit"
   ]
  },
  {
   "cell_type": "code",
   "execution_count": 9,
   "id": "0d113dd0",
   "metadata": {},
   "outputs": [],
   "source": [
    "#initialize sets\n",
    "I = range(20) #airports\n",
    "T = range(1200) #time steps\n",
    "K = range(3) #aircraft type"
   ]
  },
  {
   "cell_type": "code",
   "execution_count": 10,
   "id": "c6b96afb",
   "metadata": {},
   "outputs": [],
   "source": [
    "#calculate possible arc weights (time) to and from hub in time steps\n",
    "flight_time = np.zeros((20,3))\n",
    "for i in I:\n",
    "    for k in K:\n",
    "        flight_time[i][k] = np.ceil((distance(iata[4], iata[i])/speed[k] + 0.5 + 0.5*tat[k]/60)*10) #include tat in arc weight"
   ]
  },
  {
   "cell_type": "code",
   "execution_count": 159,
   "id": "3230904c",
   "metadata": {},
   "outputs": [],
   "source": []
  },
  {
   "cell_type": "code",
   "execution_count": 160,
   "id": "ab4341a7",
   "metadata": {},
   "outputs": [
    {
     "data": {
      "text/plain": [
       "array([[[0., 0., 0., ..., 0., 0., 0.],\n",
       "        [0., 0., 0., ..., 0., 0., 0.],\n",
       "        [0., 0., 0., ..., 0., 0., 0.],\n",
       "        ...,\n",
       "        [0., 0., 0., ..., 0., 0., 0.],\n",
       "        [0., 0., 0., ..., 0., 0., 0.],\n",
       "        [0., 0., 0., ..., 0., 0., 0.]],\n",
       "\n",
       "       [[0., 0., 0., ..., 0., 0., 0.],\n",
       "        [0., 0., 0., ..., 0., 0., 0.],\n",
       "        [0., 0., 0., ..., 0., 0., 0.],\n",
       "        ...,\n",
       "        [0., 0., 0., ..., 0., 0., 0.],\n",
       "        [0., 0., 0., ..., 0., 0., 0.],\n",
       "        [0., 0., 0., ..., 0., 0., 0.]]])"
      ]
     },
     "execution_count": 160,
     "metadata": {},
     "output_type": "execute_result"
    }
   ],
   "source": []
  },
  {
   "cell_type": "code",
   "execution_count": 214,
   "id": "2ef07da5",
   "metadata": {},
   "outputs": [],
   "source": [
    "#calculate profit per aircraft type\n",
    "\n",
    "#initialize state arrays\n",
    "state = np.zeros((20,1200,3))\n",
    "#initialize control city array\n",
    "control_city = np.zeros((1200,3), dtype=int)\n",
    "control_city[-1,:] = int(4) #begin with the hub"
   ]
  },
  {
   "cell_type": "code",
   "execution_count": 215,
   "id": "300eb14d",
   "metadata": {},
   "outputs": [
    {
     "data": {
      "text/plain": [
       "array([[0, 0, 0],\n",
       "       [0, 0, 0],\n",
       "       [0, 0, 0],\n",
       "       ...,\n",
       "       [0, 0, 0],\n",
       "       [0, 0, 0],\n",
       "       [4, 4, 4]])"
      ]
     },
     "execution_count": 215,
     "metadata": {},
     "output_type": "execute_result"
    }
   ],
   "source": [
    "control_city"
   ]
  },
  {
   "cell_type": "code",
   "execution_count": 265,
   "id": "200b0749",
   "metadata": {},
   "outputs": [],
   "source": [
    "state = {}\n",
    "state[(0,0,0)] = {'airport': 0,\n",
    "               'timestep': 0,\n",
    "                  'type': 0,\n",
    "               'demand_to_hub': demand(iata[0],iata[4],0),\n",
    "                 'demand_from_hub': demand(iata[4],iata[0],0),\n",
    "                 'profit': profit(iata[0],iata[4],0,0) }"
   ]
  },
  {
   "cell_type": "code",
   "execution_count": 266,
   "id": "d975d00f",
   "metadata": {},
   "outputs": [
    {
     "data": {
      "text/plain": [
       "{(0, 0, 0): {'airport': 0,\n",
       "  'timestep': 0,\n",
       "  'type': 0,\n",
       "  'demand_to_hub': 0.0,\n",
       "  'demand_from_hub': 0.0,\n",
       "  'profit': -7556.455645825275}}"
      ]
     },
     "execution_count": 266,
     "metadata": {},
     "output_type": "execute_result"
    }
   ],
   "source": [
    "state"
   ]
  },
  {
   "cell_type": "code",
   "execution_count": 220,
   "id": "b4af13e9",
   "metadata": {},
   "outputs": [],
   "source": [
    "for k in K:\n",
    "    #calculate profit for the specific actions\n",
    "    stay_action = np.zeros((20, 1200))\n",
    "    to_hub_action = np.zeros((20,1200))\n",
    "\n",
    "    for t in range(1200):\n",
    "        for airport in range(0,4):\n",
    "            to_hub_action[airport][t] = profit(iata[airport], iata[4], k, t)\n",
    "        for airport in range(5,20):\n",
    "            to_hub_action[airport][t] = profit(iata[airport], iata[4], k, t)\n",
    "  \n",
    "    #calculate the profit for flying back to the hub\n",
    "    from_hub_action = np.zeros((20,1200))\n",
    "    for t in range(1200):\n",
    "        for airport in range(0,4):\n",
    "            from_hub_action[airport][t] = profit(iata[4], iata[airport], k, t)\n",
    "        for airport in range(5,20):\n",
    "            from_hub_action[airport][t] = profit(iata[4], iata[airport], k, t)\n",
    "            \n",
    "    #backwards iteration\n",
    "    for t in range(1198,-1,-1):\n",
    "        for a in range(20):\n",
    "            #if it is the hub\n",
    "            if a == 4:\n",
    "\n",
    "                #check all airports\n",
    "                profits = np.zeros(20)\n",
    "                for i in range(20):\n",
    "\n",
    "                    #check if the flight leg fits within time window\n",
    "                    if t+flight_time[i][k] < 1199:\n",
    "                        profits[i] = from_hub_action[i][t] + state[i][int(t+flight_time[i][k])][k]\n",
    "\n",
    "                #choose the airport with the highest profit\n",
    "                state[a][t][k] = max(profits)\n",
    "                control_city[t][k] = np.argmax(profits).astype(int)\n",
    "\n",
    "            #if it is not the hub    \n",
    "            else:\n",
    "                if t+flight_time[a][k] < 1199:\n",
    "                    state[a][t][k] = max(to_hub_action[a][t] + state[4][int(t+flight_time[a][k])][k], \n",
    "                                      stay_action[a][t+1] + state[a][t+1][k])\n",
    "            "
   ]
  },
  {
   "cell_type": "code",
   "execution_count": 228,
   "id": "852215d9",
   "metadata": {},
   "outputs": [
    {
     "name": "stdout",
     "output_type": "stream",
     "text": [
      "The aircraft type delivering the highest profit is aircraft type  3\n",
      "with profit  25598.52628802111\n"
     ]
    }
   ],
   "source": [
    "\n",
    "#deduct leasing costs\n",
    "final_profit = np.zeros(3)\n",
    "for k in K:\n",
    "    final_profit[k] = state[4][0][k] - 5 * lease_cost[k]\n",
    "\n",
    "print('The aircraft type delivering the highest profit is aircraft type ', np.argmax(final_profit) + 1)\n",
    "print('with final profit ', max(final_profit))"
   ]
  },
  {
   "cell_type": "code",
   "execution_count": 257,
   "id": "f0a9ad4f",
   "metadata": {},
   "outputs": [
    {
     "name": "stdout",
     "output_type": "stream",
     "text": [
      "200\n",
      "82150.8553545468\n",
      "266.0\n",
      "31380.16035456912\n",
      "680.0\n",
      "55266.71266421862\n",
      "760.0\n",
      "66064.36251833591\n",
      "920.0\n",
      "35613.189994406894\n",
      "1000.0\n",
      "110412.84084955181\n"
     ]
    }
   ],
   "source": [
    "#give the flight schedule for the aircraft with the highest profit\n",
    "\n",
    "k = np.argmax(final_profit)\n",
    "\n",
    "flight_schedule = []\n",
    "current_time = int(0)\n",
    "time_steps = 1199\n",
    "aircraft_available = True\n",
    "at_hub = True\n",
    "start_airport = iata[4]\n",
    "total_flight_time = 0\n",
    "\n",
    "#start flight schedule\n",
    "while current_time < time_steps:\n",
    "    \n",
    "    if at_hub:\n",
    "        \n",
    "        #start at hub\n",
    "        start_airport = iata[4]\n",
    "        if aircraft_available:\n",
    "            if control_city[int(current_time)][k] == 4:\n",
    "                current_time += 1\n",
    "\n",
    "            #if control city is not the hub\n",
    "            if control_city[int(current_time)][k] != 4:\n",
    "                \n",
    "                #check whether round trip fits in time window\n",
    "                if current_time + 2* flight_time[control_city[int(current_time)][k]][k] >= time_steps:\n",
    "                    break\n",
    "                    \n",
    "                #fly to the control city    \n",
    "                else:\n",
    "                    destination = iata[control_city[int(current_time)][k]]\n",
    "                    destination_index = control_city[int(current_time)][k]\n",
    "                    print(current_time)\n",
    "                    travel_time = flight_time[control_city[int(current_time)][k]][k]\n",
    "\n",
    "                    #store the flight in schedule\n",
    "                    flight_schedule.append({'start': start_airport,\n",
    "                                           'destination': destination,\n",
    "                                           'departure_time' : current_time,\n",
    "                                           'arrival_time': current_time + travel_time})\n",
    "                    \n",
    "                    #update the demand\n",
    "                    if capacity[k] <= state_demand[0][destination_index][int(current_time)]:    \n",
    "                        demand_served = capacity[k]\n",
    "                    else:\n",
    "                        demand_served = state_demand[0][destination_index][int(current_time)]\n",
    "                        \n",
    "                    window = int(current_time/40)\n",
    "                    state_demand[0][destination_index][window*40:window*40+40] += -demand_served\n",
    "                    \n",
    "                    total_flight_time += travel_time\n",
    "                    current_time += travel_time\n",
    "                    at_hub = False\n",
    "                    aircraft_available = False\n",
    "        \n",
    "        #skip in time\n",
    "        else:\n",
    "            next_available_time = flight_schedule[-1]['arrival_time']\n",
    "            if current_time >= next_available_time:\n",
    "                aircraft_available = True\n",
    "            else:\n",
    "                 current_time += 1\n",
    "                    \n",
    "    #if not at hub            \n",
    "    else:\n",
    "        if aircraft_available:\n",
    "            if state[destination_index][int(current_time + 1)][k] > state[4][int(current_time + 1)][k]:\n",
    "                current_time += 1\n",
    "            else:\n",
    "                start_airport = destination\n",
    "                travel_time = flight_time[destination_index, k]\n",
    "                #hub is new destination\n",
    "                destination = iata[4]\n",
    "                destination_index = 4\n",
    "\n",
    "            #store the flight in schedule\n",
    "                flight_schedule.append({'start': start_airport,\n",
    "                                       'destination': destination,\n",
    "                                       'departure_time' : current_time,\n",
    "                                       'arrival_time': current_time + travel_time})\n",
    "                \n",
    "                    #update the demand\n",
    "                if capacity[k] <= state_demand[1][iata_list.index(start_airport)][int(current_time)]:    \n",
    "                    demand_served = capacity[k]\n",
    "                else:\n",
    "                    demand_served = state_demand[1][iata_list.index(start_airport)][int(current_time)]\n",
    "                print(demand_served)   \n",
    "                window = int(current_time/40)\n",
    "                state_demand[1][iata_list.index(start_airport)][window*40:window*40+40] += -demand_served\n",
    "                    \n",
    "                total_flight_time += travel_time\n",
    "                current_time += travel_time\n",
    "                at_hub = True\n",
    "                aircraft_available = False\n",
    "        \n",
    "        else:\n",
    "            next_available_time = flight_schedule[-1]['arrival_time']\n",
    "            if current_time >= next_available_time:\n",
    "                aircraft_available = True\n",
    "            else:\n",
    "                current_time += 1\n",
    "                "
   ]
  },
  {
   "cell_type": "code",
   "execution_count": 261,
   "id": "6214602e",
   "metadata": {},
   "outputs": [
    {
     "name": "stdout",
     "output_type": "stream",
     "text": [
      "The aircraft type delivering the highest profit is aircraft type  1\n",
      "with final profit  -8411.782287764592\n"
     ]
    }
   ],
   "source": [
    "#iteration 2\n",
    "for k in K:\n",
    "    #calculate profit for the specific actions\n",
    "    stay_action = np.zeros((20, 1200))\n",
    "    to_hub_action = np.zeros((20,1200))\n",
    "\n",
    "    for t in range(1200):\n",
    "        for airport in range(0,4):\n",
    "            to_hub_action[airport][t] = profit(iata[airport], iata[4], k, t)\n",
    "        for airport in range(5,20):\n",
    "            to_hub_action[airport][t] = profit(iata[airport], iata[4], k, t)\n",
    "  \n",
    "    #calculate the profit for flying back to the hub\n",
    "    from_hub_action = np.zeros((20,1200))\n",
    "    for t in range(1200):\n",
    "        for airport in range(0,4):\n",
    "            from_hub_action[airport][t] = profit(iata[4], iata[airport], k, t)\n",
    "        for airport in range(5,20):\n",
    "            from_hub_action[airport][t] = profit(iata[4], iata[airport], k, t)\n",
    "            \n",
    "    #backwards iteration\n",
    "    for t in range(1198,-1,-1):\n",
    "        for a in range(20):\n",
    "            #if it is the hub\n",
    "            if a == 4:\n",
    "\n",
    "                #check all airports\n",
    "                profits = np.zeros(20)\n",
    "                for i in range(20):\n",
    "\n",
    "                    #check if the flight leg fits within time window\n",
    "                    if t+flight_time[i][k] < 1199:\n",
    "                        profits[i] = from_hub_action[i][t] + state[i][int(t+flight_time[i][k])][k]\n",
    "\n",
    "                #choose the airport with the highest profit\n",
    "                state[a][t][k] = max(profits)\n",
    "                control_city[t][k] = np.argmax(profits).astype(int)\n",
    "\n",
    "            #if it is not the hub    \n",
    "            else:\n",
    "                if t+flight_time[a][k] < 1199:\n",
    "                    state[a][t][k] = max(to_hub_action[a][t] + state[4][int(t+flight_time[a][k])][k], \n",
    "                                      stay_action[a][t+1] + state[a][t+1][k])\n",
    "            \n",
    "\n",
    "#deduct leasing costs\n",
    "final_profit = np.zeros(3)\n",
    "for k in K:\n",
    "    final_profit[k] = state[4][0][k] - 5 * lease_cost[k]\n",
    "\n",
    "print('The aircraft type delivering the highest profit is aircraft type ', np.argmax(final_profit) + 1)\n",
    "print('with final profit ', max(final_profit))"
   ]
  },
  {
   "cell_type": "code",
   "execution_count": 231,
   "id": "4c4fdd77",
   "metadata": {},
   "outputs": [
    {
     "data": {
      "text/plain": [
       "[{'start': 'MAD',\n",
       "  'destination': 'FRA',\n",
       "  'departure_time': 200,\n",
       "  'arrival_time': 233.0},\n",
       " {'start': 'FRA',\n",
       "  'destination': 'MAD',\n",
       "  'departure_time': 233.0,\n",
       "  'arrival_time': 266.0},\n",
       " {'start': 'MAD',\n",
       "  'destination': 'FRA',\n",
       "  'departure_time': 266.0,\n",
       "  'arrival_time': 299.0},\n",
       " {'start': 'FRA',\n",
       "  'destination': 'MAD',\n",
       "  'departure_time': 525.0,\n",
       "  'arrival_time': 558.0},\n",
       " {'start': 'MAD',\n",
       "  'destination': 'CDG',\n",
       "  'departure_time': 680.0,\n",
       "  'arrival_time': 710.0},\n",
       " {'start': 'CDG',\n",
       "  'destination': 'MAD',\n",
       "  'departure_time': 710.0,\n",
       "  'arrival_time': 740.0},\n",
       " {'start': 'MAD',\n",
       "  'destination': 'AMS',\n",
       "  'departure_time': 760.0,\n",
       "  'arrival_time': 794.0},\n",
       " {'start': 'AMS',\n",
       "  'destination': 'MAD',\n",
       "  'departure_time': 794.0,\n",
       "  'arrival_time': 828.0},\n",
       " {'start': 'MAD',\n",
       "  'destination': 'AMS',\n",
       "  'departure_time': 920.0,\n",
       "  'arrival_time': 954.0},\n",
       " {'start': 'AMS',\n",
       "  'destination': 'MAD',\n",
       "  'departure_time': 954.0,\n",
       "  'arrival_time': 988.0},\n",
       " {'start': 'MAD',\n",
       "  'destination': 'LHR',\n",
       "  'departure_time': 1000.0,\n",
       "  'arrival_time': 1032.0},\n",
       " {'start': 'LHR',\n",
       "  'destination': 'MAD',\n",
       "  'departure_time': 1039.0,\n",
       "  'arrival_time': 1071.0}]"
      ]
     },
     "execution_count": 231,
     "metadata": {},
     "output_type": "execute_result"
    }
   ],
   "source": [
    "flight_schedule"
   ]
  },
  {
   "cell_type": "code",
   "execution_count": 233,
   "id": "01dbfd91",
   "metadata": {},
   "outputs": [
    {
     "data": {
      "text/plain": [
       "392.0"
      ]
     },
     "execution_count": 233,
     "metadata": {},
     "output_type": "execute_result"
    }
   ],
   "source": [
    "total_flight_time"
   ]
  },
  {
   "cell_type": "code",
   "execution_count": null,
   "id": "b3b3ffc2",
   "metadata": {},
   "outputs": [],
   "source": []
  }
 ],
 "metadata": {
  "kernelspec": {
   "display_name": "Python 3 (ipykernel)",
   "language": "python",
   "name": "python3"
  },
  "language_info": {
   "codemirror_mode": {
    "name": "ipython",
    "version": 3
   },
   "file_extension": ".py",
   "mimetype": "text/x-python",
   "name": "python",
   "nbconvert_exporter": "python",
   "pygments_lexer": "ipython3",
   "version": "3.11.4"
  }
 },
 "nbformat": 4,
 "nbformat_minor": 5
}
